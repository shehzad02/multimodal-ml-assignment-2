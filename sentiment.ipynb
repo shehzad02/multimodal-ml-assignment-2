{
 "cells": [
  {
   "cell_type": "code",
   "execution_count": 14,
   "metadata": {},
   "outputs": [
    {
     "name": "stderr",
     "output_type": "stream",
     "text": [
      "[nltk_data] Downloading package punkt to /Users/shehzad/nltk_data...\n",
      "[nltk_data]   Package punkt is already up-to-date!\n",
      "[nltk_data] Downloading package wordnet to /Users/shehzad/nltk_data...\n",
      "[nltk_data]   Package wordnet is already up-to-date!\n"
     ]
    }
   ],
   "source": [
    "import pandas as pd\n",
    "import numpy as np\n",
    "import matplotlib.pyplot as plt\n",
    "import seaborn as sns\n",
    "\n",
    "import preprocessor as p\n",
    "from gensim.parsing.preprocessing import remove_stopwords\n",
    "\n",
    "from sklearn.feature_extraction.text import CountVectorizer, TfidfVectorizer\n",
    "from sklearn.linear_model import LogisticRegression\n",
    "from sklearn.metrics import accuracy_score\n",
    "from sklearn.model_selection import train_test_split\n",
    "\n",
    "import string\n",
    "import nltk\n",
    "nltk.download('punkt')\n",
    "nltk.download('wordnet')\n",
    "from nltk.tokenize import word_tokenize\n",
    "from nltk.stem import WordNetLemmatizer,PorterStemmer\n",
    "from nltk.corpus import stopwords\n",
    "import re\n",
    "\n",
    "%matplotlib inline"
   ]
  },
  {
   "cell_type": "code",
   "execution_count": 15,
   "metadata": {},
   "outputs": [
    {
     "name": "stdout",
     "output_type": "stream",
     "text": [
      "1048575 734002 359\n"
     ]
    },
    {
     "data": {
      "text/html": [
       "<div>\n",
       "<style scoped>\n",
       "    .dataframe tbody tr th:only-of-type {\n",
       "        vertical-align: middle;\n",
       "    }\n",
       "\n",
       "    .dataframe tbody tr th {\n",
       "        vertical-align: top;\n",
       "    }\n",
       "\n",
       "    .dataframe thead th {\n",
       "        text-align: right;\n",
       "    }\n",
       "</style>\n",
       "<table border=\"1\" class=\"dataframe\">\n",
       "  <thead>\n",
       "    <tr style=\"text-align: right;\">\n",
       "      <th></th>\n",
       "      <th>Index</th>\n",
       "      <th>Sentiment</th>\n",
       "      <th>Text</th>\n",
       "    </tr>\n",
       "  </thead>\n",
       "  <tbody>\n",
       "    <tr>\n",
       "      <th>85735</th>\n",
       "      <td>85735</td>\n",
       "      <td>0</td>\n",
       "      <td>@Tiffanta I already did that this morning   Mc...</td>\n",
       "    </tr>\n",
       "    <tr>\n",
       "      <th>754136</th>\n",
       "      <td>754136</td>\n",
       "      <td>0</td>\n",
       "      <td>@TravelTweetie I hope you don't mind me asking...</td>\n",
       "    </tr>\n",
       "    <tr>\n",
       "      <th>977134</th>\n",
       "      <td>977134</td>\n",
       "      <td>1</td>\n",
       "      <td>@skovi nice.  will let you about our next spir...</td>\n",
       "    </tr>\n",
       "    <tr>\n",
       "      <th>310783</th>\n",
       "      <td>310783</td>\n",
       "      <td>0</td>\n",
       "      <td>@graceobrien  aww. if it makes you feel any be...</td>\n",
       "    </tr>\n",
       "    <tr>\n",
       "      <th>291170</th>\n",
       "      <td>291170</td>\n",
       "      <td>0</td>\n",
       "      <td>@stephlove23 crazzy girl I wish I had that app...</td>\n",
       "    </tr>\n",
       "  </tbody>\n",
       "</table>\n",
       "</div>"
      ],
      "text/plain": [
       "         Index  Sentiment                                               Text\n",
       "85735    85735          0  @Tiffanta I already did that this morning   Mc...\n",
       "754136  754136          0  @TravelTweetie I hope you don't mind me asking...\n",
       "977134  977134          1  @skovi nice.  will let you about our next spir...\n",
       "310783  310783          0  @graceobrien  aww. if it makes you feel any be...\n",
       "291170  291170          0  @stephlove23 crazzy girl I wish I had that app..."
      ]
     },
     "execution_count": 15,
     "metadata": {},
     "output_type": "execute_result"
    }
   ],
   "source": [
    "with open('data/train.csv') as f:\n",
    "    full = pd.read_csv(f)\n",
    "\n",
    "with open('data/test.csv') as f:\n",
    "    test = pd.read_csv(f)\n",
    "\n",
    "full = full.take(np.random.permutation(len(full)))\n",
    "\n",
    "SCALE_DATASET_SIZE = .7\n",
    "TRAIN_SUBSET = 1.0\n",
    "\n",
    "train_amount = int(len(full) * TRAIN_SUBSET * SCALE_DATASET_SIZE)\n",
    "\n",
    "train = full.take(range(0, train_amount))\n",
    "test = test\n",
    "\n",
    "print(len(full), len(train), len(test))\n",
    "train.head()"
   ]
  },
  {
   "cell_type": "code",
   "execution_count": 16,
   "metadata": {},
   "outputs": [
    {
     "data": {
      "text/html": [
       "<div>\n",
       "<style scoped>\n",
       "    .dataframe tbody tr th:only-of-type {\n",
       "        vertical-align: middle;\n",
       "    }\n",
       "\n",
       "    .dataframe tbody tr th {\n",
       "        vertical-align: top;\n",
       "    }\n",
       "\n",
       "    .dataframe thead th {\n",
       "        text-align: right;\n",
       "    }\n",
       "</style>\n",
       "<table border=\"1\" class=\"dataframe\">\n",
       "  <thead>\n",
       "    <tr style=\"text-align: right;\">\n",
       "      <th></th>\n",
       "      <th>Index</th>\n",
       "      <th>Sentiment</th>\n",
       "      <th>Text</th>\n",
       "      <th>clean_text</th>\n",
       "    </tr>\n",
       "  </thead>\n",
       "  <tbody>\n",
       "    <tr>\n",
       "      <th>85735</th>\n",
       "      <td>85735</td>\n",
       "      <td>0</td>\n",
       "      <td>@Tiffanta I already did that this morning   Mc...</td>\n",
       "      <td>morning mcfly chance win</td>\n",
       "    </tr>\n",
       "    <tr>\n",
       "      <th>754136</th>\n",
       "      <td>754136</td>\n",
       "      <td>0</td>\n",
       "      <td>@TravelTweetie I hope you don't mind me asking...</td>\n",
       "      <td>hope dont mind asking bring quotwould beenquot...</td>\n",
       "    </tr>\n",
       "    <tr>\n",
       "      <th>977134</th>\n",
       "      <td>977134</td>\n",
       "      <td>1</td>\n",
       "      <td>@skovi nice.  will let you about our next spir...</td>\n",
       "      <td>nice let spiritualwarriorscom screening</td>\n",
       "    </tr>\n",
       "    <tr>\n",
       "      <th>310783</th>\n",
       "      <td>310783</td>\n",
       "      <td>0</td>\n",
       "      <td>@graceobrien  aww. if it makes you feel any be...</td>\n",
       "      <td>aww make feel better movie legally yay</td>\n",
       "    </tr>\n",
       "    <tr>\n",
       "      <th>291170</th>\n",
       "      <td>291170</td>\n",
       "      <td>0</td>\n",
       "      <td>@stephlove23 crazzy girl I wish I had that app...</td>\n",
       "      <td>crazzy girl wish app</td>\n",
       "    </tr>\n",
       "  </tbody>\n",
       "</table>\n",
       "</div>"
      ],
      "text/plain": [
       "         Index  Sentiment                                               Text  \\\n",
       "85735    85735          0  @Tiffanta I already did that this morning   Mc...   \n",
       "754136  754136          0  @TravelTweetie I hope you don't mind me asking...   \n",
       "977134  977134          1  @skovi nice.  will let you about our next spir...   \n",
       "310783  310783          0  @graceobrien  aww. if it makes you feel any be...   \n",
       "291170  291170          0  @stephlove23 crazzy girl I wish I had that app...   \n",
       "\n",
       "                                               clean_text  \n",
       "85735                            morning mcfly chance win  \n",
       "754136  hope dont mind asking bring quotwould beenquot...  \n",
       "977134            nice let spiritualwarriorscom screening  \n",
       "310783             aww make feel better movie legally yay  \n",
       "291170                               crazzy girl wish app  "
      ]
     },
     "execution_count": 16,
     "metadata": {},
     "output_type": "execute_result"
    }
   ],
   "source": [
    "def clean_data(df):\n",
    "    def self_clean(text):\n",
    "        text = text.strip().lower()\n",
    "        text = ' '.join([w for w in text.split() if len(w) > 1 and not w.startswith('http') and not w.startswith('@')])\n",
    "        \n",
    "        text = text.translate(str.maketrans('', '', string.punctuation))\n",
    "\n",
    "        text = remove_stopwords(text)\n",
    "\n",
    "        return text\n",
    "\n",
    "\n",
    "    df['clean_text'] = df['Text'].apply(p.clean).apply(self_clean)\n",
    "\n",
    "    # Tokenize, then lemmatize, then untokenize?\n",
    "    df['clean_text'] = df['clean_text'].apply(word_tokenize).apply(lambda x: [WordNetLemmatizer().lemmatize(y) for y in x]).apply(lambda x: ' '.join(x))\n",
    "\n",
    "    \n",
    "    df.head(5)\n",
    "    return df\n",
    "\n",
    "train = clean_data(train)\n",
    "test = clean_data(test)\n",
    "train.head(5)\n"
   ]
  },
  {
   "cell_type": "code",
   "execution_count": 22,
   "metadata": {},
   "outputs": [
    {
     "name": "stdout",
     "output_type": "stream",
     "text": [
      "Vocabulary size: 230914\n",
      "Vocabulary: ['morning', 'mcfly', 'chance', 'win', 'hope', 'dont', 'mind', 'asking', 'bring', 'quotwould']\n",
      "BoW representation of the first training example:\n",
      "  (0, 125780)\t1\n",
      "  (0, 118976)\t1\n",
      "  (0, 34305)\t1\n",
      "  (0, 221517)\t1\n"
     ]
    }
   ],
   "source": [
    "bow_vectorizer = CountVectorizer()\n",
    "tfidf_vectorizer = TfidfVectorizer()\n",
    "\n",
    "# fit the vectorizer to the training data and transform the text data into each representation\n",
    "X_train_bow = bow_vectorizer.fit_transform(train['clean_text'])\n",
    "X_train_tfidf = tfidf_vectorizer.fit_transform(train['clean_text'])\n",
    "\n",
    "# transform the testing data into a bag-of-words representation using the same vectorizer\n",
    "X_test_bow = bow_vectorizer.transform(test['clean_text'])\n",
    "X_test_tfidf = tfidf_vectorizer.transform(test['clean_text'])\n",
    "\n",
    "# print the vocabulary (i.e., the set of unique words) in the BoW representation\n",
    "print(\"Vocabulary size:\", len(bow_vectorizer.vocabulary_))\n",
    "print(\"Vocabulary:\", list(bow_vectorizer.vocabulary_.keys())[:10])\n",
    "\n",
    "# print the BoW representation of the first training example\n",
    "print(\"BoW representation of the first training example:\")\n",
    "print(X_train_bow[0])\n"
   ]
  },
  {
   "cell_type": "code",
   "execution_count": 24,
   "metadata": {},
   "outputs": [
    {
     "name": "stdout",
     "output_type": "stream",
     "text": [
      "Accuracy: 76.60%\n"
     ]
    },
    {
     "name": "stderr",
     "output_type": "stream",
     "text": [
      "/Users/shehzad/Dev/schoolwork/cis4930-multimodal-ml/venv/lib/python3.11/site-packages/sklearn/linear_model/_logistic.py:458: ConvergenceWarning: lbfgs failed to converge (status=1):\n",
      "STOP: TOTAL NO. of ITERATIONS REACHED LIMIT.\n",
      "\n",
      "Increase the number of iterations (max_iter) or scale the data as shown in:\n",
      "    https://scikit-learn.org/stable/modules/preprocessing.html\n",
      "Please also refer to the documentation for alternative solver options:\n",
      "    https://scikit-learn.org/stable/modules/linear_model.html#logistic-regression\n",
      "  n_iter_i = _check_optimize_result(\n"
     ]
    }
   ],
   "source": [
    "# create a logistic regression object\n",
    "lr = LogisticRegression()\n",
    "\n",
    "# fit the model to the training data\n",
    "lr.fit(X_train_bow, train['Sentiment'])\n",
    "\n",
    "# predict the sentiment labels for the testing data\n",
    "y_pred = lr.predict(X_test_bow)\n",
    "\n",
    "# compute the accuracy of the predictions\n",
    "accuracy = accuracy_score(test['Sentiment'], y_pred)\n",
    "print(\"Accuracy: {:.2f}%\".format(accuracy * 100))"
   ]
  },
  {
   "cell_type": "code",
   "execution_count": 25,
   "metadata": {},
   "outputs": [
    {
     "name": "stdout",
     "output_type": "stream",
     "text": [
      "Accuracy: 74.65%\n"
     ]
    },
    {
     "name": "stderr",
     "output_type": "stream",
     "text": [
      "/Users/shehzad/Dev/schoolwork/cis4930-multimodal-ml/venv/lib/python3.11/site-packages/sklearn/linear_model/_logistic.py:458: ConvergenceWarning: lbfgs failed to converge (status=1):\n",
      "STOP: TOTAL NO. of ITERATIONS REACHED LIMIT.\n",
      "\n",
      "Increase the number of iterations (max_iter) or scale the data as shown in:\n",
      "    https://scikit-learn.org/stable/modules/preprocessing.html\n",
      "Please also refer to the documentation for alternative solver options:\n",
      "    https://scikit-learn.org/stable/modules/linear_model.html#logistic-regression\n",
      "  n_iter_i = _check_optimize_result(\n"
     ]
    }
   ],
   "source": [
    "from sklearn.linear_model import LogisticRegression\n",
    "\n",
    "# create a logistic regression object\n",
    "lr = LogisticRegression()\n",
    "\n",
    "# fit the model to the training data\n",
    "lr.fit(X_train_tfidf, train['Sentiment'])\n",
    "\n",
    "# predict the sentiment labels for the testing data\n",
    "y_pred = lr.predict(X_test_tfidf)\n",
    "\n",
    "# compute the accuracy of the predictions\n",
    "accuracy = accuracy_score(test['Sentiment'], y_pred)\n",
    "print(\"Accuracy: {:.2f}%\".format(accuracy * 100))"
   ]
  },
  {
   "cell_type": "code",
   "execution_count": 26,
   "metadata": {},
   "outputs": [
    {
     "name": "stdout",
     "output_type": "stream",
     "text": [
      "Accuracy: 71.87%\n"
     ]
    }
   ],
   "source": [
    "from sklearn.naive_bayes import MultinomialNB\n",
    "\n",
    "# create a naive bayes object\n",
    "nb = MultinomialNB()\n",
    "\n",
    "# fit the model to the training data\n",
    "nb.fit(X_train_bow, train['Sentiment'])\n",
    "\n",
    "# predict the sentiment labels for the testing data\n",
    "y_pred = nb.predict(X_test_bow)\n",
    "\n",
    "# compute the accuracy of the predictions\n",
    "accuracy = accuracy_score(test['Sentiment'], y_pred)\n",
    "print(\"Accuracy: {:.2f}%\".format(accuracy * 100))\n"
   ]
  },
  {
   "cell_type": "code",
   "execution_count": 27,
   "metadata": {},
   "outputs": [
    {
     "name": "stdout",
     "output_type": "stream",
     "text": [
      "Accuracy: 51.81%\n"
     ]
    }
   ],
   "source": [
    "from sklearn.naive_bayes import MultinomialNB\n",
    "\n",
    "# create a naive bayes object\n",
    "nb = MultinomialNB()\n",
    "\n",
    "# fit the model to the training data\n",
    "nb.fit(X_train_tfidf, train['Sentiment'])\n",
    "\n",
    "# predict the sentiment labels for the testing data\n",
    "y_pred = nb.predict(X_test_tfidf)\n",
    "\n",
    "# compute the accuracy of the predictions\n",
    "accuracy = accuracy_score(test['Sentiment'], y_pred)\n",
    "print(\"Accuracy: {:.2f}%\".format(accuracy * 100))\n"
   ]
  }
 ],
 "metadata": {
  "kernelspec": {
   "display_name": "venv",
   "language": "python",
   "name": "python3"
  },
  "language_info": {
   "codemirror_mode": {
    "name": "ipython",
    "version": 3
   },
   "file_extension": ".py",
   "mimetype": "text/x-python",
   "name": "python",
   "nbconvert_exporter": "python",
   "pygments_lexer": "ipython3",
   "version": "3.11.2"
  },
  "orig_nbformat": 4
 },
 "nbformat": 4,
 "nbformat_minor": 2
}
